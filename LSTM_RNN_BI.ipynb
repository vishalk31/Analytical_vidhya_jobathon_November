{
 "cells": [
  {
   "cell_type": "code",
   "execution_count": 2,
   "id": "eb0b449a",
   "metadata": {},
   "outputs": [],
   "source": [
    "import pandas as pd\n",
    "import tensorflow as tf\n",
    "from keras.layers import Dense,TimeDistributed,LSTM,Dropout,Bidirectional,RNN,SimpleRNN\n",
    "from keras.activations import sigmoid,relu\n",
    "from keras import Sequential\n",
    "from sklearn.preprocessing import MinMaxScaler"
   ]
  },
  {
   "cell_type": "code",
   "execution_count": 3,
   "id": "c4b250fc",
   "metadata": {},
   "outputs": [],
   "source": [
    "df = pd.read_csv(r\"C:\\Users\\visha\\OneDrive\\Documents\\Dataset\\current_time_series\\train.csv\")"
   ]
  },
  {
   "cell_type": "code",
   "execution_count": 4,
   "id": "7148f18d",
   "metadata": {},
   "outputs": [
    {
     "data": {
      "text/html": [
       "<div>\n",
       "<style scoped>\n",
       "    .dataframe tbody tr th:only-of-type {\n",
       "        vertical-align: middle;\n",
       "    }\n",
       "\n",
       "    .dataframe tbody tr th {\n",
       "        vertical-align: top;\n",
       "    }\n",
       "\n",
       "    .dataframe thead th {\n",
       "        text-align: right;\n",
       "    }\n",
       "</style>\n",
       "<table border=\"1\" class=\"dataframe\">\n",
       "  <thead>\n",
       "    <tr style=\"text-align: right;\">\n",
       "      <th></th>\n",
       "      <th>row_id</th>\n",
       "      <th>datetime</th>\n",
       "      <th>energy</th>\n",
       "    </tr>\n",
       "  </thead>\n",
       "  <tbody>\n",
       "    <tr>\n",
       "      <th>0</th>\n",
       "      <td>1</td>\n",
       "      <td>2008-03-01 00:00:00</td>\n",
       "      <td>1259.985563</td>\n",
       "    </tr>\n",
       "    <tr>\n",
       "      <th>1</th>\n",
       "      <td>2</td>\n",
       "      <td>2008-03-01 01:00:00</td>\n",
       "      <td>1095.541500</td>\n",
       "    </tr>\n",
       "    <tr>\n",
       "      <th>2</th>\n",
       "      <td>3</td>\n",
       "      <td>2008-03-01 02:00:00</td>\n",
       "      <td>1056.247500</td>\n",
       "    </tr>\n",
       "    <tr>\n",
       "      <th>3</th>\n",
       "      <td>4</td>\n",
       "      <td>2008-03-01 03:00:00</td>\n",
       "      <td>1034.742000</td>\n",
       "    </tr>\n",
       "    <tr>\n",
       "      <th>4</th>\n",
       "      <td>5</td>\n",
       "      <td>2008-03-01 04:00:00</td>\n",
       "      <td>1026.334500</td>\n",
       "    </tr>\n",
       "  </tbody>\n",
       "</table>\n",
       "</div>"
      ],
      "text/plain": [
       "   row_id             datetime       energy\n",
       "0       1  2008-03-01 00:00:00  1259.985563\n",
       "1       2  2008-03-01 01:00:00  1095.541500\n",
       "2       3  2008-03-01 02:00:00  1056.247500\n",
       "3       4  2008-03-01 03:00:00  1034.742000\n",
       "4       5  2008-03-01 04:00:00  1026.334500"
      ]
     },
     "execution_count": 4,
     "metadata": {},
     "output_type": "execute_result"
    }
   ],
   "source": [
    "df.head()"
   ]
  },
  {
   "cell_type": "code",
   "execution_count": 6,
   "id": "1eb1753e",
   "metadata": {},
   "outputs": [
    {
     "data": {
      "text/plain": [
       "row_id         0\n",
       "datetime       0\n",
       "energy      1900\n",
       "dtype: int64"
      ]
     },
     "execution_count": 6,
     "metadata": {},
     "output_type": "execute_result"
    }
   ],
   "source": [
    "df.isnull().sum()"
   ]
  },
  {
   "cell_type": "code",
   "execution_count": 7,
   "id": "ffc485e8",
   "metadata": {},
   "outputs": [
    {
     "data": {
      "text/html": [
       "<div>\n",
       "<style scoped>\n",
       "    .dataframe tbody tr th:only-of-type {\n",
       "        vertical-align: middle;\n",
       "    }\n",
       "\n",
       "    .dataframe tbody tr th {\n",
       "        vertical-align: top;\n",
       "    }\n",
       "\n",
       "    .dataframe thead th {\n",
       "        text-align: right;\n",
       "    }\n",
       "</style>\n",
       "<table border=\"1\" class=\"dataframe\">\n",
       "  <thead>\n",
       "    <tr style=\"text-align: right;\">\n",
       "      <th></th>\n",
       "      <th>row_id</th>\n",
       "      <th>energy</th>\n",
       "    </tr>\n",
       "  </thead>\n",
       "  <tbody>\n",
       "    <tr>\n",
       "      <th>count</th>\n",
       "      <td>94992.000000</td>\n",
       "      <td>93092.000000</td>\n",
       "    </tr>\n",
       "    <tr>\n",
       "      <th>mean</th>\n",
       "      <td>47496.500000</td>\n",
       "      <td>1702.995014</td>\n",
       "    </tr>\n",
       "    <tr>\n",
       "      <th>std</th>\n",
       "      <td>27421.972723</td>\n",
       "      <td>369.322103</td>\n",
       "    </tr>\n",
       "    <tr>\n",
       "      <th>min</th>\n",
       "      <td>1.000000</td>\n",
       "      <td>866.388600</td>\n",
       "    </tr>\n",
       "    <tr>\n",
       "      <th>25%</th>\n",
       "      <td>23748.750000</td>\n",
       "      <td>1431.541100</td>\n",
       "    </tr>\n",
       "    <tr>\n",
       "      <th>50%</th>\n",
       "      <td>47496.500000</td>\n",
       "      <td>1654.465800</td>\n",
       "    </tr>\n",
       "    <tr>\n",
       "      <th>75%</th>\n",
       "      <td>71244.250000</td>\n",
       "      <td>1935.993450</td>\n",
       "    </tr>\n",
       "    <tr>\n",
       "      <th>max</th>\n",
       "      <td>94992.000000</td>\n",
       "      <td>3374.399600</td>\n",
       "    </tr>\n",
       "  </tbody>\n",
       "</table>\n",
       "</div>"
      ],
      "text/plain": [
       "             row_id        energy\n",
       "count  94992.000000  93092.000000\n",
       "mean   47496.500000   1702.995014\n",
       "std    27421.972723    369.322103\n",
       "min        1.000000    866.388600\n",
       "25%    23748.750000   1431.541100\n",
       "50%    47496.500000   1654.465800\n",
       "75%    71244.250000   1935.993450\n",
       "max    94992.000000   3374.399600"
      ]
     },
     "execution_count": 7,
     "metadata": {},
     "output_type": "execute_result"
    }
   ],
   "source": [
    "df.describe()"
   ]
  },
  {
   "cell_type": "code",
   "execution_count": 8,
   "id": "51a3d10f",
   "metadata": {},
   "outputs": [],
   "source": [
    "df.drop([\"row_id\"],axis =1,inplace=True)"
   ]
  },
  {
   "cell_type": "code",
   "execution_count": 9,
   "id": "d1b0970d",
   "metadata": {},
   "outputs": [
    {
     "data": {
      "text/plain": [
       "<AxesSubplot:xlabel='datetime'>"
      ]
     },
     "execution_count": 9,
     "metadata": {},
     "output_type": "execute_result"
    },
    {
     "data": {
      "image/png": "[encoded data removed]",
      "text/plain": [
       "<Figure size 432x288 with 1 Axes>"
      ]
     },
     "metadata": {
      "needs_background": "light"
     },
     "output_type": "display_data"
    }
   ],
   "source": [
    "df.plot(x=\"datetime\",y = \"energy\")"
   ]
  },
  {
   "cell_type": "code",
   "execution_count": 10,
   "id": "50782600",
   "metadata": {},
   "outputs": [],
   "source": [
    "#df.reset_index(inplace=True)\n",
    "df['datetime'] = pd.to_datetime(df['datetime'])\n",
    "df['day'] = df['datetime'].dt.day\n",
    "df['month'] = df['datetime'].dt.month\n",
    "df['year'] = df['datetime'].dt.year\n",
    "df['Time'] = df['datetime'].dt.time"
   ]
  },
  {
   "cell_type": "code",
   "execution_count": 11,
   "id": "bca0cfd2",
   "metadata": {},
   "outputs": [],
   "source": [
    "df.fillna(method =\"ffill\",inplace=True)"
   ]
  },
  {
   "cell_type": "code",
   "execution_count": 12,
   "id": "8dd5fafe",
   "metadata": {},
   "outputs": [],
   "source": [
    "df_hrs = df['Time'].astype(str).str.split(':', expand=True).astype(float)\n",
    "#"
   ]
  },
  {
   "cell_type": "code",
   "execution_count": 13,
   "id": "ad7c6444",
   "metadata": {},
   "outputs": [],
   "source": [
    "df[\"hours\"] = df_hrs[0]"
   ]
  },
  {
   "cell_type": "code",
   "execution_count": 14,
   "id": "aa742fdd",
   "metadata": {},
   "outputs": [
    {
     "data": {
      "text/html": [
       "<div>\n",
       "<style scoped>\n",
       "    .dataframe tbody tr th:only-of-type {\n",
       "        vertical-align: middle;\n",
       "    }\n",
       "\n",
       "    .dataframe tbody tr th {\n",
       "        vertical-align: top;\n",
       "    }\n",
       "\n",
       "    .dataframe thead th {\n",
       "        text-align: right;\n",
       "    }\n",
       "</style>\n",
       "<table border=\"1\" class=\"dataframe\">\n",
       "  <thead>\n",
       "    <tr style=\"text-align: right;\">\n",
       "      <th></th>\n",
       "      <th>datetime</th>\n",
       "      <th>energy</th>\n",
       "      <th>day</th>\n",
       "      <th>month</th>\n",
       "      <th>year</th>\n",
       "      <th>Time</th>\n",
       "      <th>hours</th>\n",
       "    </tr>\n",
       "  </thead>\n",
       "  <tbody>\n",
       "    <tr>\n",
       "      <th>0</th>\n",
       "      <td>2008-03-01 00:00:00</td>\n",
       "      <td>1259.985563</td>\n",
       "      <td>1</td>\n",
       "      <td>3</td>\n",
       "      <td>2008</td>\n",
       "      <td>00:00:00</td>\n",
       "      <td>0.0</td>\n",
       "    </tr>\n",
       "    <tr>\n",
       "      <th>1</th>\n",
       "      <td>2008-03-01 01:00:00</td>\n",
       "      <td>1095.541500</td>\n",
       "      <td>1</td>\n",
       "      <td>3</td>\n",
       "      <td>2008</td>\n",
       "      <td>01:00:00</td>\n",
       "      <td>1.0</td>\n",
       "    </tr>\n",
       "    <tr>\n",
       "      <th>2</th>\n",
       "      <td>2008-03-01 02:00:00</td>\n",
       "      <td>1056.247500</td>\n",
       "      <td>1</td>\n",
       "      <td>3</td>\n",
       "      <td>2008</td>\n",
       "      <td>02:00:00</td>\n",
       "      <td>2.0</td>\n",
       "    </tr>\n",
       "    <tr>\n",
       "      <th>3</th>\n",
       "      <td>2008-03-01 03:00:00</td>\n",
       "      <td>1034.742000</td>\n",
       "      <td>1</td>\n",
       "      <td>3</td>\n",
       "      <td>2008</td>\n",
       "      <td>03:00:00</td>\n",
       "      <td>3.0</td>\n",
       "    </tr>\n",
       "    <tr>\n",
       "      <th>4</th>\n",
       "      <td>2008-03-01 04:00:00</td>\n",
       "      <td>1026.334500</td>\n",
       "      <td>1</td>\n",
       "      <td>3</td>\n",
       "      <td>2008</td>\n",
       "      <td>04:00:00</td>\n",
       "      <td>4.0</td>\n",
       "    </tr>\n",
       "  </tbody>\n",
       "</table>\n",
       "</div>"
      ],
      "text/plain": [
       "             datetime       energy  day  month  year      Time  hours\n",
       "0 2008-03-01 00:00:00  1259.985563    1      3  2008  00:00:00    0.0\n",
       "1 2008-03-01 01:00:00  1095.541500    1      3  2008  01:00:00    1.0\n",
       "2 2008-03-01 02:00:00  1056.247500    1      3  2008  02:00:00    2.0\n",
       "3 2008-03-01 03:00:00  1034.742000    1      3  2008  03:00:00    3.0\n",
       "4 2008-03-01 04:00:00  1026.334500    1      3  2008  04:00:00    4.0"
      ]
     },
     "execution_count": 14,
     "metadata": {},
     "output_type": "execute_result"
    }
   ],
   "source": [
    "df.head()"
   ]
  },
  {
   "cell_type": "code",
   "execution_count": 15,
   "id": "9e66be3c",
   "metadata": {},
   "outputs": [],
   "source": [
    "df.drop([\"datetime\"],axis=1,inplace=True)\n",
    "df.drop(['Time'],axis=1,inplace=True)"
   ]
  },
  {
   "cell_type": "code",
   "execution_count": 17,
   "id": "253656d3",
   "metadata": {},
   "outputs": [],
   "source": [
    "output_scaler = MinMaxScaler()\n",
    "df['energy']=output_scaler.fit_transform(df['energy'].values.reshape(-1,1))"
   ]
  },
  {
   "cell_type": "code",
   "execution_count": 18,
   "id": "cf2bd08f",
   "metadata": {},
   "outputs": [],
   "source": [
    "output = df[\"energy\"]\n",
    "df_train_new = df.drop([\"energy\"],axis=1)"
   ]
  },
  {
   "cell_type": "code",
   "execution_count": 19,
   "id": "b3fd45b1",
   "metadata": {},
   "outputs": [],
   "source": [
    "scaler =MinMaxScaler()\n",
    "scaler.fit(df_train_new)\n",
    "df_train_new =scaler.transform(df_train_new)"
   ]
  },
  {
   "cell_type": "code",
   "execution_count": 20,
   "id": "e01208ee",
   "metadata": {},
   "outputs": [],
   "source": [
    "from sklearn.model_selection import train_test_split\n",
    "train_x,val_x,train_y,val_y = train_test_split(df_train_new,output,test_size=0.01)"
   ]
  },
  {
   "cell_type": "markdown",
   "id": "367cd308",
   "metadata": {},
   "source": [
    "# Model 1- RNN"
   ]
  },
  {
   "cell_type": "code",
   "execution_count": 22,
   "id": "6c6c45fa",
   "metadata": {},
   "outputs": [
    {
     "name": "stdout",
     "output_type": "stream",
     "text": [
      "Model: \"sequential\"\n",
      "_________________________________________________________________\n",
      " Layer (type)                Output Shape              Param #   \n",
      "=================================================================\n",
      " simple_rnn (SimpleRNN)      (None, 4, 20)             440       \n",
      "                                                                 \n",
      " dropout (Dropout)           (None, 4, 20)             0         \n",
      "                                                                 \n",
      " simple_rnn_1 (SimpleRNN)    (None, 4, 10)             310       \n",
      "                                                                 \n",
      " dropout_1 (Dropout)         (None, 4, 10)             0         \n",
      "                                                                 \n",
      " simple_rnn_2 (SimpleRNN)    (None, 20)                620       \n",
      "                                                                 \n",
      " dropout_2 (Dropout)         (None, 20)                0         \n",
      "                                                                 \n",
      " dense (Dense)               (None, 1)                 21        \n",
      "                                                                 \n",
      "=================================================================\n",
      "Total params: 1,391\n",
      "Trainable params: 1,391\n",
      "Non-trainable params: 0\n",
      "_________________________________________________________________\n"
     ]
    }
   ],
   "source": [
    "rnn_model = Sequential()\n",
    "\n",
    "rnn_model.add(SimpleRNN(20,activation=\"relu\",return_sequences=True, input_shape=(train_x.shape[1],1)))\n",
    "rnn_model.add(Dropout(0.1))\n",
    "\n",
    "rnn_model.add(SimpleRNN(10,activation=\"relu\",return_sequences=True))\n",
    "rnn_model.add(Dropout(0.1))\n",
    "\n",
    "rnn_model.add(SimpleRNN(20,activation=\"relu\",return_sequences=False))\n",
    "rnn_model.add(Dropout(0.1))\n",
    "\n",
    "rnn_model.add(Dense(1))\n",
    "\n",
    "rnn_model.summary()"
   ]
  },
  {
   "cell_type": "code",
   "execution_count": 23,
   "id": "26bfb475",
   "metadata": {},
   "outputs": [
    {
     "name": "stdout",
     "output_type": "stream",
     "text": [
      "Epoch 1/20\n",
      "2939/2939 [==============================] - 20s 6ms/step - loss: 0.0115 - val_loss: 0.0082\n",
      "Epoch 2/20\n",
      "2939/2939 [==============================] - 17s 6ms/step - loss: 0.0076 - val_loss: 0.0061\n",
      "Epoch 3/20\n",
      "2939/2939 [==============================] - 16s 5ms/step - loss: 0.0066 - val_loss: 0.0060\n",
      "Epoch 4/20\n",
      "2939/2939 [==============================] - 15s 5ms/step - loss: 0.0061 - val_loss: 0.0057\n",
      "Epoch 5/20\n",
      "2939/2939 [==============================] - 14s 5ms/step - loss: 0.0059 - val_loss: 0.0059\n",
      "Epoch 6/20\n",
      "2939/2939 [==============================] - 14s 5ms/step - loss: 0.0058 - val_loss: 0.0053\n",
      "Epoch 7/20\n",
      "2939/2939 [==============================] - 11s 4ms/step - loss: 0.0056 - val_loss: 0.0051\n",
      "Epoch 8/20\n",
      "2939/2939 [==============================] - 12s 4ms/step - loss: 0.0055 - val_loss: 0.0057\n",
      "Epoch 9/20\n",
      "2939/2939 [==============================] - 14s 5ms/step - loss: 0.0055 - val_loss: 0.0051\n",
      "Epoch 10/20\n",
      "2939/2939 [==============================] - 12s 4ms/step - loss: 0.0054 - val_loss: 0.0056\n",
      "Epoch 11/20\n",
      "2939/2939 [==============================] - 16s 5ms/step - loss: 0.0054 - val_loss: 0.0051\n",
      "Epoch 12/20\n",
      "2939/2939 [==============================] - 14s 5ms/step - loss: 0.0053 - val_loss: 0.0049\n",
      "Epoch 13/20\n",
      "2939/2939 [==============================] - 15s 5ms/step - loss: 0.0053 - val_loss: 0.0050\n",
      "Epoch 14/20\n",
      "2939/2939 [==============================] - 14s 5ms/step - loss: 0.0053 - val_loss: 0.0050\n",
      "Epoch 15/20\n",
      "2939/2939 [==============================] - 15s 5ms/step - loss: 0.0052 - val_loss: 0.0049\n",
      "Epoch 16/20\n",
      "2939/2939 [==============================] - 15s 5ms/step - loss: 0.0052 - val_loss: 0.0055\n",
      "Epoch 17/20\n",
      "2939/2939 [==============================] - 14s 5ms/step - loss: 0.0051 - val_loss: 0.0050\n",
      "Epoch 18/20\n",
      "2939/2939 [==============================] - 11s 4ms/step - loss: 0.0052 - val_loss: 0.0051\n",
      "Epoch 19/20\n",
      "2939/2939 [==============================] - 12s 4ms/step - loss: 0.0051 - val_loss: 0.0048\n",
      "Epoch 20/20\n",
      "2939/2939 [==============================] - 17s 6ms/step - loss: 0.0051 - val_loss: 0.0052\n"
     ]
    },
    {
     "data": {
      "text/plain": [
       "<keras.callbacks.History at 0x2589b35a4c0>"
      ]
     },
     "execution_count": 23,
     "metadata": {},
     "output_type": "execute_result"
    }
   ],
   "source": [
    "rnn_model.compile(optimizer=\"adam\",loss=\"MSE\")\n",
    "callback = tf.keras.callbacks.EarlyStopping(monitor='loss', patience=3)\n",
    "rnn_model.fit(train_x, train_y,validation_data=(val_x,val_y), epochs=20, batch_size=32,callbacks=[callback])"
   ]
  },
  {
   "cell_type": "markdown",
   "id": "cd5ee5e7",
   "metadata": {},
   "source": [
    "# Model 2 - LSTM(Bi - directional)"
   ]
  },
  {
   "cell_type": "code",
   "execution_count": null,
   "id": "b42370cb",
   "metadata": {},
   "outputs": [],
   "source": [
    "model = Sequential()\n",
    "model.add(LSTM(units =128, activation='relu', return_sequences=True, input_shape = (train_x.shape[1],1)))\n",
    "model.add(Dropout(0.2))\n",
    "model.add(Bidirectional(LSTM(units =56, activation='tanh', return_sequences=False)))\n",
    "model.add(Dropout(0.2))\n",
    "model.add(Dense(units=1)) # Prediction of the next value"
   ]
  },
  {
   "cell_type": "markdown",
   "id": "402e717a",
   "metadata": {},
   "source": [
    "# Model 2 - LSTM"
   ]
  },
  {
   "cell_type": "code",
   "execution_count": 26,
   "id": "f0d602ed",
   "metadata": {},
   "outputs": [],
   "source": [
    "model = Sequential()\n",
    "model.add(LSTM(200, input_shape = (train_x.shape[1],1), activation='relu'))\n",
    "model.add(Dense(1))\n",
    "model.compile(loss='mean_squared_error',  optimizer='adam',metrics = ['mse', 'mae'])"
   ]
  },
  {
   "cell_type": "code",
   "execution_count": 27,
   "id": "54879c94",
   "metadata": {},
   "outputs": [
    {
     "name": "stdout",
     "output_type": "stream",
     "text": [
      "Epoch 1/20\n",
      "2939/2939 [==============================] - 17s 5ms/step - loss: 0.0105 - val_loss: 0.0068\n",
      "Epoch 2/20\n",
      "2939/2939 [==============================] - 17s 6ms/step - loss: 0.0057 - val_loss: 0.0058\n",
      "Epoch 3/20\n",
      "2939/2939 [==============================] - 16s 5ms/step - loss: 0.0052 - val_loss: 0.0056\n",
      "Epoch 4/20\n",
      "2939/2939 [==============================] - 16s 6ms/step - loss: 0.0049 - val_loss: 0.0055\n",
      "Epoch 5/20\n",
      "2939/2939 [==============================] - 16s 5ms/step - loss: 0.0048 - val_loss: 0.0050\n",
      "Epoch 6/20\n",
      "2939/2939 [==============================] - 16s 5ms/step - loss: 0.0046 - val_loss: 0.0049\n",
      "Epoch 7/20\n",
      "2939/2939 [==============================] - 17s 6ms/step - loss: 0.0045 - val_loss: 0.0050\n",
      "Epoch 8/20\n",
      "2939/2939 [==============================] - 17s 6ms/step - loss: 0.0044 - val_loss: 0.0045\n",
      "Epoch 9/20\n",
      "2939/2939 [==============================] - 16s 5ms/step - loss: 0.0043 - val_loss: 0.0046\n",
      "Epoch 10/20\n",
      "2939/2939 [==============================] - 17s 6ms/step - loss: 0.0042 - val_loss: 0.0046\n",
      "Epoch 11/20\n",
      "2939/2939 [==============================] - 16s 6ms/step - loss: 0.0041 - val_loss: 0.0044\n",
      "Epoch 12/20\n",
      "2939/2939 [==============================] - 16s 6ms/step - loss: 0.0040 - val_loss: 0.0042\n",
      "Epoch 13/20\n",
      "2939/2939 [==============================] - 17s 6ms/step - loss: 0.0039 - val_loss: 0.0041\n",
      "Epoch 14/20\n",
      "2939/2939 [==============================] - 17s 6ms/step - loss: 0.0038 - val_loss: 0.0041\n",
      "Epoch 15/20\n",
      "2939/2939 [==============================] - 16s 5ms/step - loss: 0.0037 - val_loss: 0.0041\n",
      "Epoch 16/20\n",
      "2939/2939 [==============================] - 19s 7ms/step - loss: 0.0037 - val_loss: 0.0041\n",
      "Epoch 17/20\n",
      "2939/2939 [==============================] - 20s 7ms/step - loss: 0.0036 - val_loss: 0.0039\n",
      "Epoch 18/20\n",
      "2939/2939 [==============================] - 17s 6ms/step - loss: 0.0035 - val_loss: 0.0038\n",
      "Epoch 19/20\n",
      "2939/2939 [==============================] - 19s 6ms/step - loss: 0.0035 - val_loss: 0.0039\n",
      "Epoch 20/20\n",
      "2939/2939 [==============================] - 17s 6ms/step - loss: 0.0034 - val_loss: 0.0039\n"
     ]
    },
    {
     "data": {
      "text/plain": [
       "<keras.callbacks.History at 0x258a248ff70>"
      ]
     },
     "execution_count": 27,
     "metadata": {},
     "output_type": "execute_result"
    }
   ],
   "source": [
    "model.compile(optimizer=\"adam\",loss=\"MSE\")\n",
    "callback = tf.keras.callbacks.EarlyStopping(monitor='loss', patience=3)\n",
    "model.fit(train_x, train_y,validation_data=(val_x,val_y), epochs=20, batch_size=32,callbacks=[callback])"
   ]
  },
  {
   "cell_type": "markdown",
   "id": "8beebe87",
   "metadata": {},
   "source": [
    "# # Model 2 - LSTM(Multi - Bi - directional) "
   ]
  },
  {
   "cell_type": "code",
   "execution_count": null,
   "id": "d81e88d1",
   "metadata": {},
   "outputs": [],
   "source": [
    "model = Sequential()\n",
    "model.add(LSTM(units =128, activation='relu', return_sequences=True, input_shape = (train_x.shape[1],1)))\n",
    "model.add(Dropout(0.2))\n",
    "model.add(Bidirectional(LSTM(units =256, activation='relu', return_sequences=True)))\n",
    "model.add(Dropout(0.2))\n",
    "model.add(Bidirectional(LSTM(units =128, activation='relu', return_sequences=True)))\n",
    "model.add(Dropout(0.2))\n",
    "model.add(Bidirectional(LSTM(units =256, activation='relu', return_sequences=False)))\n",
    "model.add(Dropout(0.2))\n",
    "model.add(Dense(units=1)) # Prediction of the next value"
   ]
  },
  {
   "cell_type": "code",
   "execution_count": null,
   "id": "e3f68e0c",
   "metadata": {},
   "outputs": [],
   "source": [
    "model.compile(optimizer='adam',loss=\"mean_squared_error\")#,metrics=[\"accuracy\"])\n",
    "model.summary()"
   ]
  },
  {
   "cell_type": "code",
   "execution_count": null,
   "id": "ee16df52",
   "metadata": {},
   "outputs": [],
   "source": [
    "#import tensorflow as tf\n",
    "callback = tf.keras.callbacks.EarlyStopping(monitor='loss', patience=3)\n",
    "model.fit(train_x,train_y,batch_size=16,validation_data=(val_x,val_y),epochs=30,callbacks=[callback])"
   ]
  },
  {
   "cell_type": "code",
   "execution_count": 28,
   "id": "40e9b2ef",
   "metadata": {},
   "outputs": [
    {
     "name": "stdout",
     "output_type": "stream",
     "text": [
      "822/822 [==============================] - 3s 4ms/step\n"
     ]
    }
   ],
   "source": [
    "df_test = pd.read_csv(r\"C:\\Users\\visha\\OneDrive\\Documents\\Dataset\\current_time_series\\Test.csv\")\n",
    "df_test_new = df_test.drop('row_id',axis=1)\n",
    "df_test_new['datetime'] = pd.to_datetime(df_test_new['datetime'])\n",
    "df_test_new['day'] = pd.to_datetime(df_test_new['datetime']).dt.day\n",
    "df_test_new['month'] = pd.to_datetime(df_test_new['datetime']).dt.month\n",
    "df_test_new['year'] = pd.to_datetime(df_test_new['datetime']).dt.year\n",
    "df_test_new['Time'] = pd.to_datetime(df_test_new['datetime']).dt.time\n",
    "df_hrs = df_test_new['Time'].astype(str).str.split(':', expand=True).astype(float)\n",
    "df_test_new['hours'] = df_hrs[0]\n",
    "df_test_new.drop([\"datetime\",'Time'],axis=1,inplace=True)\n",
    "df_test_min = scaler.transform(df_test_new)\n",
    "output_result = model.predict(df_test_min)\n",
    "df_test[\"energy\"] = output_scaler.inverse_transform(output_result)\n",
    "df_test.drop('datetime',axis=1,inplace=True)\n",
    "df_test.to_csv(r\"C:\\Users\\visha\\OneDrive\\Documents\\Dataset\\current_time_series\\submission_1.csv\",index=False)"
   ]
  },
  {
   "cell_type": "code",
   "execution_count": 29,
   "id": "0118f5e5",
   "metadata": {},
   "outputs": [],
   "source": [
    "model.save(r\"C:\\Users\\visha\\OneDrive\\Documents\\Dataset\\current_time_series\\model_files\\final_model.h5\")"
   ]
  },
  {
   "cell_type": "code",
   "execution_count": 32,
   "id": "f1f2b024",
   "metadata": {},
   "outputs": [
    {
     "data": {
      "text/plain": [
       "['C:\\\\Users\\\\visha\\\\OneDrive\\\\Documents\\\\Dataset\\\\current_time_series\\\\model_files\\\\input_scaler.pkl']"
      ]
     },
     "execution_count": 32,
     "metadata": {},
     "output_type": "execute_result"
    }
   ],
   "source": [
    "import joblib\n",
    "joblib.dump(output_scaler, r'C:\\Users\\visha\\OneDrive\\Documents\\Dataset\\current_time_series\\model_files\\output_scaler.pkl') \n",
    "joblib.dump(scaler, r'C:\\Users\\visha\\OneDrive\\Documents\\Dataset\\current_time_series\\model_files\\input_scaler.pkl') "
   ]
  },
  {
   "cell_type": "code",
   "execution_count": null,
   "id": "32dae64b",
   "metadata": {},
   "outputs": [],
   "source": [
    "reg = linear_model.BayesianRidge()\n",
    "reg.fit(X_train, y_train)\n",
    "yhat = reg.predict(X_test)\n",
    "resultsDict['BayesianRidge'] = evaluate(df_test.pollution_today, yhat)\n",
    "predictionsDict['BayesianRidge'] = yhat\n",
    "\n",
    "#linear_model\n",
    "reg = linear_model.Lasso(alpha=0.1)\n",
    "reg.fit(X_train, y_train)\n",
    "yhat = reg.predict(X_test)\n",
    "resultsDict['Lasso'] = evaluate(df_test.pollution_today, yhat)\n",
    "predictionsDict['Lasso'] = yhat\n",
    "\n",
    "#Random FOrest\n",
    "reg = RandomForestRegressor(max_depth=2, random_state=0)\n",
    "reg.fit(X_train, y_train)\n",
    "yhat = reg.predict(X_test)\n",
    "resultsDict['Randomforest'] = evaluate(df_test.pollution_today, yhat)\n",
    "predictionsDict['Randomforest'] = yhat\n",
    "\n",
    "#XGB\n",
    "reg = xgb.XGBRegressor(objective='reg:squarederror', n_estimators=1000)\n",
    "reg.fit(X_train, y_train,\n",
    "        verbose=False)  # Change verbose to True if you want to see it train\n",
    "yhat = reg.predict(X_test)\n",
    "resultsDict['XGBoost'] = evaluate(df_test.pollution_today, yhat)\n",
    "predictionsDict['XGBoost'] = yhat\n",
    "\n",
    "#LGB\n",
    "lightGBM = lgb.LGBMRegressor()\n",
    "lightGBM.fit(X_train, y_train)\n",
    "yhat = lightGBM.predict(X_test)\n",
    "resultsDict['Lightgbm'] = evaluate(df_test.pollution_today, yhat)\n",
    "predictionsDict['Lightgbm'] = yhat\n",
    "#Support vector machines\n",
    "reg = svm.SVR(kernel='rbf', C=100, gamma=0.1, epsilon=.1)\n",
    "reg.fit(X_train, y_train)\n",
    "yhat = reg.predict(X_test)\n",
    "resultsDict['SVM RBF'] = evaluate(df_test.pollution_today, yhat)\n",
    "predictionsDict['SVM RBF'] = yhat\n",
    "#Nearest neighbors\n",
    "reg = KNeighborsRegressor(n_neighbors=2)\n",
    "reg.fit(X_train, y_train)\n",
    "yhat = reg.predict(X_test)\n",
    "resultsDict['Kneighbors'] = evaluate(df_test.pollution_today, yhat)\n",
    "predictionsDict['Kneighbors'] = yhat"
   ]
  }
 ],
 "metadata": {
  "kernelspec": {
   "display_name": "Python 3 (ipykernel)",
   "language": "python",
   "name": "python3"
  },
  "language_info": {
   "codemirror_mode": {
    "name": "ipython",
    "version": 3
   },
   "file_extension": ".py",
   "mimetype": "text/x-python",
   "name": "python",
   "nbconvert_exporter": "python",
   "pygments_lexer": "ipython3",
   "version": "3.9.12"
  }
 },
 "nbformat": 4,
 "nbformat_minor": 5
}
